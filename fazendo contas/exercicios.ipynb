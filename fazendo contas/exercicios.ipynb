{
 "cells": [
  {
   "cell_type": "markdown",
   "metadata": {},
   "source": [
    "### Exercício Python 11: Faça um programa que leia a largura e a altura de uma parede em metros, calcule a sua área e a quantidade de tinta necessária para pintá-la, sabendo que cada litro de tinta pinta uma área de 2 metros quadrados."
   ]
  },
  {
   "cell_type": "code",
   "execution_count": 5,
   "metadata": {},
   "outputs": [
    {
     "name": "stdout",
     "output_type": "stream",
     "text": [
      " sua parede rem 5.0x5.0 e a área é de 25.0m2\n",
      "para pintar sua parede voê precisará de 12.5 litros de tinta\n"
     ]
    }
   ],
   "source": [
    "largura = float(input('Largura da parede: '))\n",
    "altura = float(input('Altura da parede: '))\n",
    "area = largura * altura\n",
    "\n",
    "print(' sua parede rem {}x{} e a área é de {}m2'.format(largura, altura, area))\n",
    "\n",
    "tinta = area / 2 \n",
    "\n",
    "print('para pintar sua parede voê precisará de {} litros de tinta'.format(tinta))\n",
    "\n"
   ]
  },
  {
   "cell_type": "markdown",
   "metadata": {},
   "source": [
    "### Exercício Python 12: Faça um algoritmo que leia o preço de um produto e mostre seu novo preço, com 5% de desconto."
   ]
  },
  {
   "cell_type": "code",
   "execution_count": 13,
   "metadata": {},
   "outputs": [
    {
     "name": "stdout",
     "output_type": "stream",
     "text": [
      "5.0\n",
      "o preço que voce vaipagar é 95.0\n",
      "--------------------forma com menos linhas-----------------------------------\n",
      "o produto que custava R$100.00, com 5% de desconto vai ficar 95.00\n"
     ]
    }
   ],
   "source": [
    "preco = float(input('preço do produto R$'))\n",
    "percent = preco*5/100\n",
    "\n",
    "print(percent)\n",
    "\n",
    "novopreco = preco - percent\n",
    "\n",
    "print('o preço que voce vaipagar é {}'.format(novopreco))\n",
    "\n",
    "## forma com menos linhas\n",
    "print('--------------------forma com menos linhas-----------------------------------')\n",
    "preco = float(input('preço do produto R$'))\n",
    "novo = preco - (preco * 5 /100)\n",
    "print('o produto que custava R${:.2f}, com 5% de desconto vai ficar R${:.2f}'.format(preco, novo))"
   ]
  },
  {
   "cell_type": "markdown",
   "metadata": {},
   "source": [
    "### Exercício Python 13: Faça um algoritmo que leia o salário de um funcionário e mostre seu novo salário, com 15% de aumento."
   ]
  },
  {
   "cell_type": "code",
   "execution_count": 1,
   "metadata": {},
   "outputs": [
    {
     "name": "stdout",
     "output_type": "stream",
     "text": [
      "Seu novo salário será de R$1150.00\n"
     ]
    }
   ],
   "source": [
    "salario = float(input('Qual seu selário? R$'))\n",
    "aumento = float(input('Qual o per centual de aumento?'))\n",
    "novosalario = salario + (salario * aumento / 100)\n",
    "\n",
    "print('Seu novo salário será de R${:.2f}'.format(novosalario))"
   ]
  },
  {
   "cell_type": "markdown",
   "metadata": {},
   "source": [
    "### Exercício Python 14: Escreva um programa que converta uma temperatura digitando em graus Celsius e converta para graus Fahrenheit."
   ]
  },
  {
   "cell_type": "code",
   "execution_count": 2,
   "metadata": {},
   "outputs": [
    {
     "name": "stdout",
     "output_type": "stream",
     "text": [
      "a temperatura é 113.0\n"
     ]
    }
   ],
   "source": [
    "c = float(input('tem em graud celcius'))\n",
    "f = ((9*c)/5)+32   ## fórmula do calculo de conversão\n",
    "\n",
    "print('a temperatura é {}'.format(f))\n",
    "\n"
   ]
  },
  {
   "cell_type": "markdown",
   "metadata": {},
   "source": [
    "### Exercício Python 15: Escreva um programa que pergunte a quantidade de Km percorridos por um carro alugado e a quantidade de dias pelos quais ele foi alugado. Calcule o preço a pagar, sabendo que o carro custa R$60 por dia e R$0,15 por Km rodado."
   ]
  },
  {
   "cell_type": "code",
   "execution_count": 4,
   "metadata": {},
   "outputs": [
    {
     "name": "stdout",
     "output_type": "stream",
     "text": [
      "o total a pagar é 588.00\n"
     ]
    }
   ],
   "source": [
    "dias = int(input('quantos dias de aluguel?'))\n",
    "km = float(input('quantos km rodados?'))\n",
    "\n",
    "total = (dias * 60) + (km *0.15)\n",
    "\n",
    "print('o total a pagar é {:.2f}'.format(total))"
   ]
  }
 ],
 "metadata": {
  "kernelspec": {
   "display_name": "Python 3",
   "language": "python",
   "name": "python3"
  },
  "language_info": {
   "codemirror_mode": {
    "name": "ipython",
    "version": 3
   },
   "file_extension": ".py",
   "mimetype": "text/x-python",
   "name": "python",
   "nbconvert_exporter": "python",
   "pygments_lexer": "ipython3",
   "version": "3.11.3"
  },
  "orig_nbformat": 4
 },
 "nbformat": 4,
 "nbformat_minor": 2
}
