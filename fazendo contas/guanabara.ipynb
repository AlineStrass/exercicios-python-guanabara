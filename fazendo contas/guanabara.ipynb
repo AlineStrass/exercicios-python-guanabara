{
 "cells": [
  {
   "cell_type": "markdown",
   "metadata": {},
   "source": [
    "### Exercício de Soma"
   ]
  },
  {
   "cell_type": "code",
   "execution_count": null,
   "metadata": {},
   "outputs": [],
   "source": [
    "numUm = int(input('numero um: '))\n",
    "numDois = int(input('numero dois: '))\n",
    "\n",
    "soma = numUm + numDois\n",
    "\n",
    "print(soma)\n",
    "print('a soma é: {}'.format(soma))\n",
    "print('a soma de {} e {} vale {}'.format(numUm, numDois, soma))"
   ]
  },
  {
   "cell_type": "markdown",
   "metadata": {},
   "source": [
    "### Exercícios de coletar e apresentar dados - usando input()"
   ]
  },
  {
   "cell_type": "code",
   "execution_count": null,
   "metadata": {},
   "outputs": [],
   "source": [
    "nome = input(\"Qual é o seu nome? \")\n",
    "idade = input(\"Qual é a sua idade? \")\n",
    "signo = input(\"Qual é o seu signo? \")\n",
    "print(nome, idade, signo)\n",
    "print('Oi, ', nome, '! É um prazer te conhecer')\n",
    "\n",
    "dia = input(\"Qual o dia do seu nascimento? \")\n",
    "mes = input(\"Qual o mês do seu aniversário? \")\n",
    "ano = input(\"Em que ano você nasceu? \")\n",
    "print('Você nasceu no dia', dia, ' de ', mes, ' de ', ano, '. Correto?')\n"
   ]
  },
  {
   "cell_type": "markdown",
   "metadata": {},
   "source": []
  },
  {
   "cell_type": "code",
   "execution_count": null,
   "metadata": {},
   "outputs": [],
   "source": [
    "num = input('numero algo: ')\n",
    "\n",
    "\n",
    "print(num.isnumeric())\n",
    "print(type(num))\n",
    "print(num)"
   ]
  },
  {
   "cell_type": "markdown",
   "metadata": {},
   "source": [
    "### Exercício de calculo de média"
   ]
  },
  {
   "cell_type": "code",
   "execution_count": null,
   "metadata": {},
   "outputs": [],
   "source": [
    "numero = int(input('digite um numero: '))\n",
    "ant = numero - 1\n",
    "suces = numero + 1\n",
    "dobro = numero * 2\n",
    "triplo = numero * 3\n",
    "raiz = numero**(1/2)\n",
    "\n",
    "print('Você digitou o número {}, o seu antecessor é {} e o sucessor é {}'.format(numero, ant, suces))\n",
    "print('O dobro de {} é {}, o triplo é {} e a raiz quadrada é {}'.format(numero, dobro, triplo, raiz))\n",
    "\n",
    "\n",
    "n1 = int(input('digite um número: '))\n",
    "n2 = int(input('digite outro número: '))\n",
    "media = (n1 + n2)/2\n",
    "\n",
    "print('a média é', media)"
   ]
  },
  {
   "cell_type": "markdown",
   "metadata": {},
   "source": []
  },
  {
   "cell_type": "code",
   "execution_count": null,
   "metadata": {},
   "outputs": [],
   "source": []
  }
 ],
 "metadata": {
  "language_info": {
   "name": "python"
  },
  "orig_nbformat": 4
 },
 "nbformat": 4,
 "nbformat_minor": 2
}
