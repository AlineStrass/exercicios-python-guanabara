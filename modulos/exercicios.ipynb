{
 "cells": [
  {
   "cell_type": "markdown",
   "metadata": {},
   "source": [
    "## Utilizando Módulos"
   ]
  },
  {
   "cell_type": "markdown",
   "metadata": {},
   "source": [
    "### Bibliotecas:\n",
    "\n",
    "#### math = tras funcionalidades extras de matemática;\n",
    "    ceil = faz arredondamento para cima;\n",
    "    floor = faz arredondamento para baixo;\n",
    "    trunc = elimina da virgula para frente - vai truncar;\n",
    "    pow = power , potencia, que funciona de forma semelhante aos 2 asteriscos;\n",
    "    sqrt = calcula raiz quadrada;\n",
    "    factorial = faz calculo fatorias de numero;\n",
    "\n"
   ]
  },
  {
   "cell_type": "markdown",
   "metadata": {},
   "source": [
    "import math = vai importar todas as funcinalidades da biblioteca math\n",
    "\n",
    "from math import sqrt = vaiimportr só a funcionalidade sqrt da biblioteca math\n",
    "\n",
    "from math import sqrt, floor = vai importr somente as duas funcionalidades"
   ]
  },
  {
   "cell_type": "code",
   "execution_count": 3,
   "metadata": {},
   "outputs": [
    {
     "name": "stdout",
     "output_type": "stream",
     "text": [
      "a raiz de 29 é 6\n",
      "a raiz de 29 é 5.39\n"
     ]
    }
   ],
   "source": [
    "## exemplos\n",
    "import math\n",
    "\n",
    "num = int(input('digite um número:'))\n",
    "raiz = math.sqrt(num)\n",
    "print('a raiz de {} é {}'.format(num, math.ceil(raiz)))\n",
    "print('a raiz de {} é {:.2f}'.format(num, raiz))\n",
    "\n",
    "\n",
    "## IMPORTANDO FUNÇÕES ESPECÍFICAS\n",
    "## from math import sqrt, ceil\n",
    "## num = int(input('digite um número:'))\n",
    "## raiz = sqrt(num)\n",
    "## print('a raiz de {} é {}'.format(num, ceil(raiz)))\n"
   ]
  },
  {
   "cell_type": "code",
   "execution_count": 5,
   "metadata": {},
   "outputs": [
    {
     "name": "stdout",
     "output_type": "stream",
     "text": [
      "0.8010726064748581 3\n"
     ]
    }
   ],
   "source": [
    "## Random serve para criar numeros aleatórios\n",
    "\n",
    "import random\n",
    "numero = random.random()\n",
    "numero2 = random.randint(1, 30)\n",
    "print(numero, numero2)"
   ]
  }
 ],
 "metadata": {
  "kernelspec": {
   "display_name": "Python 3",
   "language": "python",
   "name": "python3"
  },
  "language_info": {
   "codemirror_mode": {
    "name": "ipython",
    "version": 3
   },
   "file_extension": ".py",
   "mimetype": "text/x-python",
   "name": "python",
   "nbconvert_exporter": "python",
   "pygments_lexer": "ipython3",
   "version": "3.11.3"
  },
  "orig_nbformat": 4
 },
 "nbformat": 4,
 "nbformat_minor": 2
}
